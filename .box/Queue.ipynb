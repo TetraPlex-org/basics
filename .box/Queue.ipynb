{
 "cells": [
  {
   "cell_type": "markdown",
   "metadata": {
    "deletable": true,
    "editable": true
   },
   "source": [
    "## The Idea\n",
    "In RL, many situations involve waiting in queues. Waiting in a queue means wasting time (on part of those waiting) and space (that need to be provided for the waiting), both valuable commodities.\n",
    "There exists a RL queueing system that is key: Instead of having a \"real\" queue where everyone is required to stand and wait, people draw consecutive numbers, printed on paper. The next in line is announced by display of the number. This means people theoretically could do other things while waiting, but since the number only is announced locally in practice that means that people still are effectively forced to idle.\n",
    "There is only way to really solve this issue: by fully virtualizing the queue.\n",
    "\n",
    "If the queue was fully virtual and accessible to everyone by means of a mobile app, many things would be simpler and cheaper for everyone.\n",
    "\n",
    "## Queues for everyone!\n",
    "To really make this viable, setting up and using queues must be so simple that anyone can do it, anywhere.\n",
    "The simplest way to establish RL points of reference is by using QR codes to perform the critical tasks with as little user interaction as possible to minimize friction.\n",
    "\n",
    "The normal usecase would be like this:\n",
    "1. get the mobile\n",
    "2. open the app\n",
    "3. scan QR code\n",
    "4. walk away and do other things\n",
    "5. get an ETA on the queue and notification on x min until turn\n",
    "6. scan QR code to confirm presence and turn\n",
    "7. get stuff done\n",
    "\n",
    "Of course there are a lot more things that could be done with this (geolocation services and advertisement, position \"auctioning\" in queues, data about queue&service, checklists for complex services like citizenship), but it all boils down to how easy it is to do this basic job.\n"
   ]
  },
  {
   "cell_type": "code",
   "execution_count": 1,
   "metadata": {
    "collapsed": false,
    "deletable": true,
    "editable": true
   },
   "outputs": [],
   "source": [
    "from sys import path\n",
    "path.append(\"/home/amogorkon/.local/lib/python3.4/site-packages\")\n",
    "import pyqrcode\n",
    "\n",
    "test = pyqrcode.create('hello world! queues are everywhere!')\n",
    "test.svg('uca-url.svg', scale=8)\n",
    "test.show()"
   ]
  },
  {
   "cell_type": "markdown",
   "metadata": {
    "deletable": true,
    "editable": true
   },
   "source": [
    "### "
   ]
  }
 ],
 "metadata": {
  "kernelspec": {
   "display_name": "Python 3",
   "language": "python",
   "name": "python3"
  },
  "language_info": {
   "codemirror_mode": {
    "name": "ipython",
    "version": 3
   },
   "file_extension": ".py",
   "mimetype": "text/x-python",
   "name": "python",
   "nbconvert_exporter": "python",
   "pygments_lexer": "ipython3",
   "version": "3.6.0b2"
  }
 },
 "nbformat": 4,
 "nbformat_minor": 0
}
